{
 "cells": [
  {
   "cell_type": "markdown",
   "metadata": {},
   "source": [
    "# Week 2: Background subtraction\n",
    "\n",
    "This python notebook includes all the exercises from this session. All the needed setup, I/O and user-interaction code is already provided to let you concentrate on this week's topic.<br>\n",
    "Please run all the provided code in order before running yours.<br>\n",
    "\n",
    "\n",
    "## 1. Bluescreen\n",
    "### 1.A Single pixel model\n",
    "Extract foreground objects in bluescreen movie footage. The blue background color should be specified by a single color value [r, g, b]. You may obtain such a value by using the provided notebook widget to select one or more blue pixels on the first frame of the footage. To determine whether a given pixel should be foreground or background, threshold the absolute distance of its value to the reference value, i.e.\n",
    "\n",
    "$$\\left\\lVert[r, g, b] - [r_0, g_0, b_0]\\right\\rVert < t$$\n",
    "\n",
    "Based on pixelwise decisions, a mask can be created to specify foreground and background.<br>\n",
    "Try different values for the threshold and the reference color. To test your results, you can use the short video provided. Note that not the whole background consists of bluescreen.\n",
    "To overcome this problem, you can use the precomputed mask provided into the variable `mask`.\n",
    "\n",
    "### 1.B Exemplar set model\n",
    "To further improve the results, specify the blue background by an exemplar set of blue background pixels. You may select this set using the same widget as in the previous point. After computing mean $\\mu$ and covariance matrix $\\Sigma$ of the pixel values, the Mahalanobis distance $M(x, \\mu, \\Sigma)$ can be used to decide whether a color value $x$ originated from the background or the foreground.\n",
    "\n",
    "$$M(x, \\mu, \\Sigma) = \\sqrt{(x-\\mu)^T\\Sigma^{-1}(x-\\mu)}$$\n",
    "\n",
    "## 2. Per-pixel Model\n",
    "Probably you have noticed that the approach in the previous task failed in the upper region of the background, which was not covered with blue sheets, for which we provided the `mask`. To handle more complex scenarios, extend the background model to a per-pixel model. For each pixel, compute the mean and the covariance of its values over a number of frames which do not contain foreground objects. You may then use the Mahalanobis distance to classify pixels in sequences containing foreground objects. You can use the same threshold for all pixels.<br>\n",
    "To create the model, use jugglingBG.avi. This scene was captured for several frames without foreground objects. Based on the background model, foreground pixels can then be identified and masks can be created for jugglingTest.avi."
   ]
  },
  {
   "cell_type": "markdown",
   "metadata": {},
   "source": [
    "## Useful information for this tutorial:\n",
    "\n",
    "Images are represented as numpy arrays, which are fixed-dimensional arrays. Videos are represented as arrays of images.<br>\n",
    "In this tutorial each pixel takes a RGB value within the range [0-255] and is represented as a 16-bit signed integer, to allow signed operations without subtle overflow bugs.\n",
    "\n",
    "you will need to visualize your results, thus to printout an image use:\n",
    "\n",
    "`imshow(image)`\n",
    "\n",
    "You can read pixel values inside an image by accessing the corresponding pixel coordinates in the array. The following reads the green component (1) of pixel at location (10, 20) of the 5th frame (index 4):\n",
    "\n",
    "`g = vid[4, 10, 20, 1]`\n",
    "\n",
    "Of course you can also change pixel values in the same way. We recommend copying an image before editing. To copy an image:\n",
    "\n",
    "`im_copy = np.array(im)` (`np` is the short name for `numpy` which is recognized by python when importing numpy with `import numpy as np`)\n",
    "\n",
    "With numpy it is also possible to refer to slices of a given array by specifying the kept dimensions in the slice with `:`. For example, if we want to access the red channel of an RGB image `im` with shape `(height, width, 3)`, we can write `im[:, :, 0]`, which refers to the whole image data for the red channel only. We can optionally specify a range to be kept along a direction by writing the extreme indices around the `:` as in `min:max`. For example, accessing a patch within the pixel coordinates `(h0, w0)`, `(h1, w1)` with h0 < h1 and w0 < w1 can be done with `im[h0:h1, w0:w1, :]`.<br>\n",
    "You can also index arrays based on conditions: for example to set to black all pixels with a blue component higher than 200 you can write `im[im[:, :, 2] > 200] = 0`.<br>\n",
    "These references can be used both for reading an image slice and for writing a whole slice at once, without looping over it.\n",
    "\n",
    "When doing operations between numpy arrays, all operations are executed element-wise (except for the `@` operator that performs the usual matrix multiplication). This requires the shapes (dimensions) of the involved arrays to match or to be compatible according to broadcasting rules, which are usually intuitive. An example of broadcasting is when adding a pixel value `p=np.array([70, 128, 255])` to an image `im` with shape `(height, width, 3)`: the operation is legal and the pixel value is added independently to each pixel in the image. A complete reference of numpy broadcasting rules (not necessary for this tutorial, but very useful for numpy python programming) can be found in https://docs.scipy.org/doc/numpy/user/basics.broadcasting.html . \n",
    "\n",
    "In the following we list some useful functions:\n",
    "\n",
    "`np.array(a)`: returns a copy of `a` as a numpy array. Argument `a` does not need to be a numpy array, it can be any array-like object, e.g. a python list. https://docs.scipy.org/doc/numpy/reference/generated/numpy.array.html<br>\n",
    "`np.empty(shape, dtype)`: returns a new empty array with specified shape `shape` and the specified data type `dtype`. For this tutorial we suggest using as dtype `np.int16` for images and default for the rest. https://docs.scipy.org/doc/numpy/reference/generated/numpy.empty.html<br>\n",
    "`np.ones(shape, dtype)`: returns a new array filled with ones with specified shape `shape` and the specified data type `dtype`. For this tutorial we suggest using as dtype `np.int16` for images and default for the rest. https://docs.scipy.org/doc/numpy/reference/generated/numpy.ones.html<br>\n",
    "`np.zeros(shape, dtype)`: returns a new array filled with zeros with specified shape `shape` and the specified data type `dtype`. For this tutorial we suggest using as dtype `np.int16` for images and default for the rest. https://docs.scipy.org/doc/numpy/reference/generated/numpy.zeros.html<br>\n",
    "`np.eye(N)` : builds the identity matrix of order `N`. https://docs.scipy.org/doc/numpy/reference/generated/numpy.eye.html<br>\n",
    "`np.reshape(a, newshape)`: returns a reshaped view of the input array `a` having shape `newshape`, which should be specified as a tuple of integers. https://docs.scipy.org/doc/numpy/reference/generated/numpy.reshape.html<br>\n",
    "`np.linalg.norm(x)`: returns the L2 norm of array `x`. You can also specify a keyword argument `axis` to compute the norm only along a specific dimension (the result will have the same shape as `x`, but without the specified dimension) https://docs.scipy.org/doc/numpy/reference/generated/numpy.linalg.norm.html<br>\n",
    "`np.transpose(a)` : returns the transposed of array `a`, whose shape has reversed order with respect to `a`. Alias `a.T`. https://docs.scipy.org/doc/numpy/reference/generated/numpy.transpose.html<br>\n",
    "`np.linalg.inv(a)` : returns the multiplicative inverse of matrix `a`. https://docs.scipy.org/doc/numpy/reference/generated/numpy.linalg.inv.html<br>\n",
    "`np.matmul(a, b)` : returns the matrix multiplication of `a` multiplied by `b`. Alias `a @ b`. https://docs.scipy.org/doc/numpy/reference/generated/numpy.matmul.html<br>\n",
    "`np.sum(a)` : returns the sum of all the elements of array `a`. You can specify a keyword argument `axis` to compute the sum only along a specific dimension (the result will have the same shape as `a`, but without the specified dimension) https://docs.scipy.org/doc/numpy/reference/generated/numpy.sum.html<br>\n",
    "`np.mean(a)` : returns the mean value of all the elements of array `a`. You can specify a keyword argument `axis` to compute the mean only along a specific dimension (the result will have the same shape as `a`, but without the specified dimension) https://docs.scipy.org/doc/numpy/reference/generated/numpy.mean.html<br>\n",
    "`np.cov(m)` : build the covariance matrix of array `a` where each row represents a variable and each column represents an observation.  https://docs.scipy.org/doc/numpy/reference/generated/numpy.cov.html <br>\n",
    "\n"
   ]
  },
  {
   "cell_type": "markdown",
   "metadata": {},
   "source": [
    "## EXERCISE 1 - SETUP CODE"
   ]
  },
  {
   "cell_type": "markdown",
   "metadata": {},
   "source": [
    "The following cell installs required packages into the virtual machine that will run your code"
   ]
  },
  {
   "cell_type": "code",
   "execution_count": 1,
   "metadata": {},
   "outputs": [
    {
     "name": "stdout",
     "output_type": "stream",
     "text": [
      "Collecting scikit-video\n",
      "  Using cached scikit_video-1.1.11-py2.py3-none-any.whl (2.3 MB)\n",
      "Collecting pillow\n",
      "  Using cached Pillow-8.3.2-cp38-cp38-win_amd64.whl (3.2 MB)\n",
      "Collecting scipy\n",
      "  Downloading scipy-1.7.1-cp38-cp38-win_amd64.whl (33.7 MB)\n",
      "Collecting numpy\n",
      "  Using cached numpy-1.21.2-cp38-cp38-win_amd64.whl (14.0 MB)\n",
      "Installing collected packages: numpy, scipy, pillow, scikit-video\n",
      "Successfully installed numpy-1.21.2 pillow-8.3.2 scikit-video-1.1.11 scipy-1.7.1\n",
      "Collecting scikit-image\n",
      "  Downloading scikit_image-0.18.3-cp38-cp38-win_amd64.whl (12.2 MB)\n",
      "Collecting PyWavelets>=1.1.1\n",
      "  Downloading PyWavelets-1.1.1-cp38-cp38-win_amd64.whl (4.3 MB)\n",
      "Requirement already satisfied: scipy>=1.0.1 in c:\\users\\jenny\\anaconda3\\envs\\viscomp\\lib\\site-packages (from scikit-image) (1.7.1)\n",
      "Collecting networkx>=2.0\n",
      "  Downloading networkx-2.6.3-py3-none-any.whl (1.9 MB)\n",
      "Collecting imageio>=2.3.0\n",
      "  Downloading imageio-2.9.0-py3-none-any.whl (3.3 MB)\n",
      "Collecting matplotlib!=3.0.0,>=2.0.0\n",
      "  Using cached matplotlib-3.4.3-cp38-cp38-win_amd64.whl (7.1 MB)\n",
      "Collecting tifffile>=2019.7.26\n",
      "  Downloading tifffile-2021.8.30-py3-none-any.whl (171 kB)\n",
      "Requirement already satisfied: numpy>=1.16.5 in c:\\users\\jenny\\anaconda3\\envs\\viscomp\\lib\\site-packages (from scikit-image) (1.21.2)\n",
      "Requirement already satisfied: pillow!=7.1.0,!=7.1.1,>=4.3.0 in c:\\users\\jenny\\anaconda3\\envs\\viscomp\\lib\\site-packages (from scikit-image) (8.3.2)\n",
      "Collecting cycler>=0.10\n",
      "  Using cached cycler-0.10.0-py2.py3-none-any.whl (6.5 kB)\n",
      "Collecting pyparsing>=2.2.1\n",
      "  Using cached pyparsing-2.4.7-py2.py3-none-any.whl (67 kB)\n",
      "Collecting python-dateutil>=2.7\n",
      "  Using cached python_dateutil-2.8.2-py2.py3-none-any.whl (247 kB)\n",
      "Collecting kiwisolver>=1.0.1\n",
      "  Using cached kiwisolver-1.3.2-cp38-cp38-win_amd64.whl (52 kB)\n",
      "Collecting six\n",
      "  Using cached six-1.16.0-py2.py3-none-any.whl (11 kB)\n",
      "Installing collected packages: six, python-dateutil, pyparsing, kiwisolver, cycler, tifffile, PyWavelets, networkx, matplotlib, imageio, scikit-image\n",
      "Successfully installed PyWavelets-1.1.1 cycler-0.10.0 imageio-2.9.0 kiwisolver-1.3.2 matplotlib-3.4.3 networkx-2.6.3 pyparsing-2.4.7 python-dateutil-2.8.2 scikit-image-0.18.3 six-1.16.0 tifffile-2021.8.30\n",
      "Collecting ipywidgets\n",
      "  Using cached ipywidgets-7.6.5-py2.py3-none-any.whl (121 kB)\n",
      "Collecting ipykernel>=4.5.1\n",
      "  Using cached ipykernel-6.4.1-py3-none-any.whl (124 kB)\n",
      "Collecting widgetsnbextension~=3.5.0\n",
      "  Using cached widgetsnbextension-3.5.1-py2.py3-none-any.whl (2.2 MB)\n",
      "Collecting ipython-genutils~=0.2.0\n",
      "  Using cached ipython_genutils-0.2.0-py2.py3-none-any.whl (26 kB)\n",
      "Collecting nbformat>=4.2.0\n",
      "  Using cached nbformat-5.1.3-py3-none-any.whl (178 kB)\n",
      "Collecting traitlets>=4.3.1\n",
      "  Using cached traitlets-5.1.0-py3-none-any.whl (101 kB)\n",
      "Collecting jupyterlab-widgets>=1.0.0\n",
      "  Using cached jupyterlab_widgets-1.0.2-py3-none-any.whl (243 kB)\n",
      "Collecting ipython>=4.0.0\n",
      "  Downloading ipython-7.28.0-py3-none-any.whl (788 kB)\n",
      "Collecting matplotlib-inline<0.2.0,>=0.1.0\n",
      "  Using cached matplotlib_inline-0.1.3-py3-none-any.whl (8.2 kB)\n",
      "Collecting tornado<7.0,>=4.2\n",
      "  Using cached tornado-6.1-cp38-cp38-win_amd64.whl (422 kB)\n",
      "Collecting jupyter-client<8.0\n",
      "  Downloading jupyter_client-7.0.4-py3-none-any.whl (124 kB)\n",
      "Collecting debugpy<2.0,>=1.0.0\n",
      "  Using cached debugpy-1.4.3-cp38-cp38-win_amd64.whl (4.3 MB)\n",
      "Collecting decorator\n",
      "  Using cached decorator-5.1.0-py3-none-any.whl (9.1 kB)\n",
      "Collecting pickleshare\n",
      "  Using cached pickleshare-0.7.5-py2.py3-none-any.whl (6.9 kB)\n",
      "Collecting prompt-toolkit!=3.0.0,!=3.0.1,<3.1.0,>=2.0.0\n",
      "  Using cached prompt_toolkit-3.0.20-py3-none-any.whl (370 kB)\n",
      "Collecting pygments\n",
      "  Using cached Pygments-2.10.0-py3-none-any.whl (1.0 MB)\n",
      "Collecting backcall\n",
      "  Using cached backcall-0.2.0-py2.py3-none-any.whl (11 kB)\n",
      "Collecting jedi>=0.16\n",
      "  Using cached jedi-0.18.0-py2.py3-none-any.whl (1.4 MB)\n",
      "Collecting colorama\n",
      "  Using cached colorama-0.4.4-py2.py3-none-any.whl (16 kB)\n",
      "Requirement already satisfied: setuptools>=18.5 in c:\\users\\jenny\\anaconda3\\envs\\viscomp\\lib\\site-packages (from ipython>=4.0.0->ipywidgets) (58.0.4)\n",
      "Collecting parso<0.9.0,>=0.8.0\n",
      "  Using cached parso-0.8.2-py2.py3-none-any.whl (94 kB)\n",
      "Requirement already satisfied: python-dateutil>=2.1 in c:\\users\\jenny\\anaconda3\\envs\\viscomp\\lib\\site-packages (from jupyter-client<8.0->ipykernel>=4.5.1->ipywidgets) (2.8.2)\n",
      "Collecting nest-asyncio>=1.5\n",
      "  Using cached nest_asyncio-1.5.1-py3-none-any.whl (5.0 kB)\n",
      "Collecting jupyter-core>=4.6.0\n",
      "  Using cached jupyter_core-4.8.1-py3-none-any.whl (86 kB)\n",
      "Collecting pyzmq>=13\n",
      "  Using cached pyzmq-22.3.0-cp38-cp38-win_amd64.whl (1.0 MB)\n",
      "Collecting entrypoints\n",
      "  Using cached entrypoints-0.3-py2.py3-none-any.whl (11 kB)\n",
      "Collecting pywin32>=1.0\n",
      "  Using cached pywin32-301-cp38-cp38-win_amd64.whl (9.3 MB)\n",
      "Collecting jsonschema!=2.5.0,>=2.4\n",
      "  Using cached jsonschema-3.2.0-py2.py3-none-any.whl (56 kB)\n",
      "Requirement already satisfied: six>=1.11.0 in c:\\users\\jenny\\anaconda3\\envs\\viscomp\\lib\\site-packages (from jsonschema!=2.5.0,>=2.4->nbformat>=4.2.0->ipywidgets) (1.16.0)\n",
      "Collecting attrs>=17.4.0\n",
      "  Using cached attrs-21.2.0-py2.py3-none-any.whl (53 kB)\n",
      "Collecting pyrsistent>=0.14.0\n",
      "  Using cached pyrsistent-0.18.0-cp38-cp38-win_amd64.whl (62 kB)\n",
      "Collecting wcwidth\n",
      "  Using cached wcwidth-0.2.5-py2.py3-none-any.whl (30 kB)\n",
      "Collecting notebook>=4.4.1\n",
      "  Using cached notebook-6.4.4-py3-none-any.whl (9.9 MB)\n",
      "Collecting argon2-cffi\n",
      "  Using cached argon2_cffi-21.1.0-cp35-abi3-win_amd64.whl (40 kB)\n",
      "Collecting terminado>=0.8.3\n",
      "  Using cached terminado-0.12.1-py3-none-any.whl (15 kB)\n",
      "Collecting prometheus-client\n",
      "  Using cached prometheus_client-0.11.0-py2.py3-none-any.whl (56 kB)\n",
      "Collecting Send2Trash>=1.5.0\n",
      "  Using cached Send2Trash-1.8.0-py3-none-any.whl (18 kB)\n",
      "Collecting jinja2\n",
      "  Using cached Jinja2-3.0.1-py3-none-any.whl (133 kB)\n",
      "Collecting nbconvert\n",
      "  Downloading nbconvert-6.2.0-py3-none-any.whl (553 kB)\n",
      "Collecting pywinpty>=1.1.0\n",
      "  Using cached pywinpty-1.1.4-cp38-none-win_amd64.whl (1.3 MB)\n",
      "Collecting cffi>=1.0.0\n",
      "  Using cached cffi-1.14.6-cp38-cp38-win_amd64.whl (179 kB)\n",
      "Collecting pycparser\n",
      "  Using cached pycparser-2.20-py2.py3-none-any.whl (112 kB)\n",
      "Collecting MarkupSafe>=2.0\n",
      "  Using cached MarkupSafe-2.0.1-cp38-cp38-win_amd64.whl (14 kB)\n",
      "Collecting mistune<2,>=0.8.1\n",
      "  Using cached mistune-0.8.4-py2.py3-none-any.whl (16 kB)\n",
      "Collecting bleach\n",
      "  Using cached bleach-4.1.0-py2.py3-none-any.whl (157 kB)\n",
      "Collecting jupyterlab-pygments\n",
      "  Using cached jupyterlab_pygments-0.1.2-py2.py3-none-any.whl (4.6 kB)\n",
      "Collecting defusedxml\n",
      "  Using cached defusedxml-0.7.1-py2.py3-none-any.whl (25 kB)\n",
      "Collecting testpath\n",
      "  Using cached testpath-0.5.0-py3-none-any.whl (84 kB)\n",
      "Collecting pandocfilters>=1.4.1\n",
      "  Using cached pandocfilters-1.5.0-py2.py3-none-any.whl (8.7 kB)\n",
      "Collecting nbclient<0.6.0,>=0.5.0\n",
      "  Using cached nbclient-0.5.4-py3-none-any.whl (66 kB)\n",
      "Collecting webencodings\n",
      "  Using cached webencodings-0.5.1-py2.py3-none-any.whl (11 kB)\n",
      "Collecting packaging\n",
      "  Using cached packaging-21.0-py3-none-any.whl (40 kB)\n",
      "Requirement already satisfied: pyparsing>=2.0.2 in c:\\users\\jenny\\anaconda3\\envs\\viscomp\\lib\\site-packages (from packaging->bleach->nbconvert->notebook>=4.4.1->widgetsnbextension~=3.5.0->ipywidgets) (2.4.7)\n",
      "Installing collected packages: traitlets, pywin32, pyrsistent, attrs, wcwidth, tornado, pyzmq, parso, nest-asyncio, jupyter-core, jsonschema, ipython-genutils, entrypoints, webencodings, pygments, pycparser, prompt-toolkit, pickleshare, packaging, nbformat, matplotlib-inline, MarkupSafe, jupyter-client, jedi, decorator, colorama, backcall, testpath, pywinpty, pandocfilters, nbclient, mistune, jupyterlab-pygments, jinja2, ipython, defusedxml, debugpy, cffi, bleach, terminado, Send2Trash, prometheus-client, nbconvert, ipykernel, argon2-cffi, notebook, widgetsnbextension, jupyterlab-widgets, ipywidgets\n",
      "Successfully installed MarkupSafe-2.0.1 Send2Trash-1.8.0 argon2-cffi-21.1.0 attrs-21.2.0 backcall-0.2.0 bleach-4.1.0 cffi-1.14.6 colorama-0.4.4 debugpy-1.4.3 decorator-5.1.0 defusedxml-0.7.1 entrypoints-0.3 ipykernel-6.4.1 ipython-7.28.0 ipython-genutils-0.2.0 ipywidgets-7.6.5 jedi-0.18.0 jinja2-3.0.1 jsonschema-3.2.0 jupyter-client-7.0.4 jupyter-core-4.8.1 jupyterlab-pygments-0.1.2 jupyterlab-widgets-1.0.2 matplotlib-inline-0.1.3 mistune-0.8.4 nbclient-0.5.4 nbconvert-6.2.0 nbformat-5.1.3 nest-asyncio-1.5.1 notebook-6.4.4 packaging-21.0 pandocfilters-1.5.0 parso-0.8.2 pickleshare-0.7.5 prometheus-client-0.11.0 prompt-toolkit-3.0.20 pycparser-2.20 pygments-2.10.0 pyrsistent-0.18.0 pywin32-301 pywinpty-1.1.4 pyzmq-22.3.0 terminado-0.12.1 testpath-0.5.0 tornado-6.1 traitlets-5.1.0 wcwidth-0.2.5 webencodings-0.5.1 widgetsnbextension-3.5.1\n"
     ]
    }
   ],
   "source": [
    "!pip install scikit-video\n",
    "!pip install scikit-image\n",
    "!pip install ipywidgets"
   ]
  },
  {
   "cell_type": "markdown",
   "metadata": {},
   "source": [
    "Import packages to read videos, make interactive widgets and plot images."
   ]
  },
  {
   "cell_type": "code",
   "execution_count": 2,
   "metadata": {},
   "outputs": [],
   "source": [
    "import skvideo.io\n",
    "import skimage.io\n",
    "import matplotlib\n",
    "from ipywidgets import interactive, widgets\n",
    "from IPython.display import display\n",
    "from matplotlib.pyplot import imshow\n",
    "import numpy as np"
   ]
  },
  {
   "cell_type": "markdown",
   "metadata": {},
   "source": [
    "Reading the test video bluescreen.avi in `bluescreen` and the upper region mask into `umask`."
   ]
  },
  {
   "cell_type": "code",
   "execution_count": 39,
   "metadata": {},
   "outputs": [
    {
     "name": "stdout",
     "output_type": "stream",
     "text": [
      "Video information:\n",
      "Number of frames:  43\n",
      "Frame width (pixels):  516\n",
      "Frame height (pixels):  389\n",
      "Video array shape:  (43, 389, 516, 3)\n"
     ]
    }
   ],
   "source": [
    "bluescreen = np.array(skvideo.io.vread(\"bluescreen.avi\"), dtype=np.int16)\n",
    "numframes, height, width, channels = np.shape(bluescreen)\n",
    "print(\"Video information:\")\n",
    "print(\"Number of frames: \", numframes)\n",
    "print(\"Frame width (pixels): \", width)\n",
    "print(\"Frame height (pixels): \", height)\n",
    "print(\"Video array shape: \", np.shape(bluescreen))\n",
    "\n",
    "umask = skimage.io.imread(\"mask.bmp\")//255"
   ]
  },
  {
   "cell_type": "markdown",
   "metadata": {},
   "source": [
    "Here is a \\*wonderful\\* user interface we have prepared for you to select any number of points on the first frame of the video.\n",
    "\n",
    "Use the x slider to move vertically and use the y slider to move horizontally (x and y reflect indexing in the image array).<br>\n",
    "Press \"Update image\" when you want to see where you moved your cursor within the image, and press \"Remember this point\" when you want to store the current selected point into the python list `selected_image_locations`.\n",
    "\n",
    "\n",
    "`selected_image_locations` will contain all selected locations stored as couples of integers, taking the format: [(x1, y1), (x2, y2), (x3, y3) ...]\n",
    "\n",
    "The image will show a red cross where there is the current temporary selection, and green crosses on all stored locations.\n",
    "\n",
    "If you are not familiar with numpy arrays, we suggest to read through the code of `display_selections` and `draw_cross` as further examples."
   ]
  },
  {
   "cell_type": "code",
   "execution_count": 40,
   "metadata": {},
   "outputs": [
    {
     "data": {
      "application/vnd.jupyter.widget-view+json": {
       "model_id": "1040ca66ce274cb5a09dd469bfbf31a6",
       "version_major": 2,
       "version_minor": 0
      },
      "text/plain": [
       "Button(description='Remember this point', style=ButtonStyle())"
      ]
     },
     "metadata": {},
     "output_type": "display_data"
    },
    {
     "data": {
      "application/vnd.jupyter.widget-view+json": {
       "model_id": "c4698c0a63da411d9260f4c122e46a4f",
       "version_major": 2,
       "version_minor": 0
      },
      "text/plain": [
       "interactive(children=(IntSlider(value=194, description='x', max=388), IntSlider(value=257, description='y', ma…"
      ]
     },
     "metadata": {},
     "output_type": "display_data"
    }
   ],
   "source": [
    "selected_image_locations = list()\n",
    "\n",
    "def draw_cross(im, cx, cy, l, w, col):\n",
    "    dimx, dimy = np.shape(im)[:2]\n",
    "    im[max(0, cx-l):min(cx+l, dimx-1), max(0, cy-w):min(dimy-1, cy+w)] = col\n",
    "    im[max(0, cx-w):min(dimx-1, cx+w), max(0, cy-l):min(dimy-1, cy+l)] = col\n",
    "\n",
    "\n",
    "def display_selections(x, y):\n",
    "    tmp_im = np.array(bluescreen[0]*umask)\n",
    "    for px, py in selected_image_locations:\n",
    "        draw_cross(tmp_im, px, py, 1, 5, (0, 255, 0))\n",
    "    draw_cross(tmp_im, x, y, 1, 5, (255, 0, 0))\n",
    "    imshow(tmp_im)\n",
    "    \n",
    "interactive_plot = interactive(display_selections,{'manual': True, 'manual_name': 'Update image'}, x=(0, height-1, 1), y=(0, width-1, 1))\n",
    "button = widgets.Button(description=\"Remember this point\")\n",
    "xslider = interactive_plot.children[0]\n",
    "yslider = interactive_plot.children[1]\n",
    "button.on_click(lambda b: selected_image_locations.append((xslider.value, yslider.value)))\n",
    "display(button)\n",
    "display(interactive_plot)"
   ]
  },
  {
   "cell_type": "markdown",
   "metadata": {},
   "source": [
    "## EXERCISE 1.A - PUT SOLUTION HERE"
   ]
  },
  {
   "cell_type": "code",
   "execution_count": 41,
   "metadata": {
    "scrolled": true
   },
   "outputs": [
    {
     "name": "stderr",
     "output_type": "stream",
     "text": [
      "Clipping input data to the valid range for imshow with RGB data ([0..1] for floats or [0..255] for integers).\n"
     ]
    },
    {
     "name": "stdout",
     "output_type": "stream",
     "text": [
      "BG-Color:  [ 54 113 211]\n"
     ]
    },
    {
     "data": {
      "text/plain": [
       "<matplotlib.image.AxesImage at 0x1efbd7625b0>"
      ]
     },
     "execution_count": 41,
     "metadata": {},
     "output_type": "execute_result"
    },
    {
     "data": {
      "image/png": "[encoded data removed]",
      "text/plain": [
       "<Figure size 432x288 with 1 Axes>"
      ]
     },
     "metadata": {
      "needs_background": "light"
     },
     "output_type": "display_data"
    }
   ],
   "source": [
    "# A few basic code hints this time, just in case it is the very first time you code in Python :)\n",
    "# of course this is not a template for the 'best' solution, you are encouraged to change everything you want!\n",
    "\n",
    "selected_image_locations = [(55, 212)]\n",
    "# First we take the x and y pixel coordinates of the first selection made at the previous step. \n",
    "# Notice that selected_image_location[0] is a tuple of 2 elements, which we can assign to two scalar variables at once. If the dimensions don't match (like assigning a couple to three variables), Python will throw an error\n",
    "selx, sely = selected_image_locations[0]\n",
    "\n",
    "# get the [r0, g0, b0] values that model our background in this simple single-pixel model\n",
    "ref_rgb = bluescreen[0][selx][sely]\n",
    "print(\"BG-Color: \", ref_rgb)\n",
    "\n",
    "# set a threshold, you can tune it experimentally after seeing the results\n",
    "THRESHOLD = 130\n",
    "\n",
    "# initialize the background mask, it will need to be a 0-1 array of the same sizes of our video frames, so that each 0-1 value corresponds to a pixel being assigned to class background (0) or foreground (1)\n",
    "#bgmask = np.array(umask)\n",
    "bgmask = np.ones((height,width,3), dtype=np.int16)\n",
    "\n",
    "# now classify each pixel according to the single-pixel model\n",
    "\"\"\"\n",
    "for h in range(height):\n",
    "    for w in range(width):\n",
    "        if np.linalg.norm(bluescreen[0][h][w] - ref_rgb) < THRESHOLD:\n",
    "            bgmask[h, w] = 0\n",
    "\"\"\"\n",
    "# alternatively you can also do it with one line of code using conditional indexing:\n",
    "bgmask[np.linalg.norm(bluescreen[0] - ref_rgb, axis=2) < THRESHOLD] = 0\n",
    "#bgmask[umask == 0] = 0\n",
    "\n",
    "# and visualize your results on the first frame. Do they look reasonable?\n",
    "imshow(bluescreen[0]*bgmask*umask)\n"
   ]
  },
  {
   "cell_type": "code",
   "execution_count": 42,
   "metadata": {},
   "outputs": [
    {
     "data": {
      "application/vnd.jupyter.widget-view+json": {
       "model_id": "cd0569e22b5c46ab8b2507f695972e02",
       "version_major": 2,
       "version_minor": 0
      },
      "text/plain": [
       "VBox(children=(Play(value=0, interval=1000, max=42), interactive(children=(IntSlider(value=21, description='i'…"
      ]
     },
     "metadata": {},
     "output_type": "display_data"
    }
   ],
   "source": [
    "play = widgets.Play(\n",
    "    interval=1000,\n",
    "    min=0,\n",
    "    max=numframes-1,\n",
    "    step=1,\n",
    ")\n",
    "THRESHOLD = 130\n",
    "\n",
    "def detect_bg(i):\n",
    "    bgmask = np.array(umask)\n",
    "    bgmask[np.linalg.norm(bluescreen[i] - ref_rgb, axis=2) < THRESHOLD] = 0\n",
    "    return bgmask\n",
    "\n",
    "def print_frame(i):\n",
    "    imshow(bluescreen[i]*detect_bg(i))\n",
    "    \n",
    "slider = interactive(print_frame, i=(0, numframes-1, 1))\n",
    "widgets.jslink((play, 'value'), (slider.children[0], 'value'))\n",
    "widgets.VBox([play, slider])\n",
    "\n"
   ]
  },
  {
   "cell_type": "markdown",
   "metadata": {},
   "source": [
    "## EXERCISE 1.B - PUT SOLUTION HERE"
   ]
  },
  {
   "cell_type": "code",
   "execution_count": 10,
   "metadata": {},
   "outputs": [
    {
     "name": "stdout",
     "output_type": "stream",
     "text": [
      "(389, 516, 3)\n",
      "(3, 516, 389)\n"
     ]
    }
   ],
   "source": [
    "print(bluescreen[0].shape)\n",
    "print(bluescreen[0].T.shape)\n"
   ]
  },
  {
   "cell_type": "code",
   "execution_count": 31,
   "metadata": {},
   "outputs": [
    {
     "name": "stdout",
     "output_type": "stream",
     "text": [
      "[ 55.    112.375 209.75 ]\n",
      "(3, 3)\n"
     ]
    },
    {
     "data": {
      "text/plain": [
       "<matplotlib.image.AxesImage at 0x1efbd818550>"
      ]
     },
     "execution_count": 31,
     "metadata": {},
     "output_type": "execute_result"
    },
    {
     "data": {
      "image/png": "[encoded data removed]",
      "text/plain": [
       "<Figure size 432x288 with 1 Axes>"
      ]
     },
     "metadata": {
      "needs_background": "light"
     },
     "output_type": "display_data"
    }
   ],
   "source": [
    "# Use this time the Mahalanobis distance for the thresholding, with a global mean and covariance of the background\n",
    "selected_image_locations = [(55, 212), (148, 212), (177, 98), (332, 98), (332, 368), (332, 428), (107, 428), (15, 213)]\n",
    "\n",
    "selected_pixels = np.array([bluescreen[0,selx,sely] for selx, sely in selected_image_locations])\n",
    "\n",
    "mu = np.mean([bluescreen[0,selx,sely] for selx, sely in selected_image_locations], axis=0)\n",
    "print(mu)\n",
    "cov_inv = np.linalg.inv(np.cov(selected_pixels.T))\n",
    "print(cov_inv.shape)\n",
    "\n",
    "THRESHOLD = 30\n",
    "bgmask = np.array(umask)\n",
    "\n",
    "for h in range(height):\n",
    "    for w in range(width):\n",
    "        x_mu = (bluescreen[0, h, w]-mu)\n",
    "        mahalanobis = (x_mu.T)@cov_inv@x_mu\n",
    "        if (mahalanobis < THRESHOLD):\n",
    "            bgmask[h,w] = 0\n",
    "\n",
    "imshow(bluescreen[0]*bgmask)"
   ]
  },
  {
   "cell_type": "markdown",
   "metadata": {},
   "source": [
    "## EXERCISE 2 - SETUP CODE\n",
    "(installs and imports from the Exercise 1 should be run anyway)"
   ]
  },
  {
   "cell_type": "markdown",
   "metadata": {},
   "source": [
    "Reading the test video jugglingTest.avi in `testvid` and the background reference video jugglingBG.avi into `bgvid`."
   ]
  },
  {
   "cell_type": "code",
   "execution_count": 6,
   "metadata": {},
   "outputs": [
    {
     "name": "stdout",
     "output_type": "stream",
     "text": [
      "jugglingBG.avi video information:\n",
      "Number of frames:  20\n",
      "Frame width (pixels):  672\n",
      "Frame height (pixels):  378\n",
      "Video array shape:  (20, 378, 672, 3)\n",
      "\n",
      "jugglingTest.avi video information:\n",
      "Number of frames:  100\n",
      "Frame width (pixels):  672\n",
      "Frame height (pixels):  378\n",
      "Video array shape:  (100, 378, 672, 3)\n"
     ]
    }
   ],
   "source": [
    "bgvid = np.array(skvideo.io.vread(\"jugglingBG.avi\"), dtype=np.int16)\n",
    "testvid = np.array(skvideo.io.vread(\"jugglingTest.avi\"), dtype=np.int16)\n",
    "\n",
    "bgnumframes, bgheight, bgwidth, bgchannels = np.shape(bgvid)\n",
    "print(\"jugglingBG.avi video information:\")\n",
    "print(\"Number of frames: \", bgnumframes)\n",
    "print(\"Frame width (pixels): \", bgwidth)\n",
    "print(\"Frame height (pixels): \", bgheight)\n",
    "print(\"Video array shape: \", np.shape(bgvid))\n",
    "\n",
    "print()\n",
    "testnumframes, testheight, testwidth, testchannels = np.shape(testvid)\n",
    "print(\"jugglingTest.avi video information:\")\n",
    "print(\"Number of frames: \", testnumframes)\n",
    "print(\"Frame width (pixels): \", testwidth)\n",
    "print(\"Frame height (pixels): \", testheight)\n",
    "print(\"Video array shape: \", np.shape(testvid))"
   ]
  },
  {
   "cell_type": "markdown",
   "metadata": {},
   "source": [
    "## EXERCISE 2 - PUT SOLUTION HERE"
   ]
  },
  {
   "cell_type": "code",
   "execution_count": null,
   "metadata": {},
   "outputs": [],
   "source": [
    "# Use again the Mahalanobis distance for the thresholding, but with a per-pixel mean and covariance\n"
   ]
  },
  {
   "cell_type": "markdown",
   "metadata": {},
   "source": [
    "## Credits\n",
    "\n",
    "Luca Cavalli (lcavalli@ethz.ch)"
   ]
  }
 ],
 "metadata": {
  "kernelspec": {
   "display_name": "Python 3",
   "language": "python",
   "name": "python3"
  },
  "language_info": {
   "codemirror_mode": {
    "name": "ipython",
    "version": 3
   },
   "file_extension": ".py",
   "mimetype": "text/x-python",
   "name": "python",
   "nbconvert_exporter": "python",
   "pygments_lexer": "ipython3",
   "version": "3.8.3"
  }
 },
 "nbformat": 4,
 "nbformat_minor": 4
}
